{
 "metadata": {
  "name": "",
  "signature": "sha256:5741e56ab1eb50d134c8d94fab4e85e1eebfabd8f89ea1107e28d6d7e150f979"
 },
 "nbformat": 3,
 "nbformat_minor": 0,
 "worksheets": [
  {
   "cells": [
    {
     "cell_type": "markdown",
     "metadata": {},
     "source": [
      "#Programmers guid to data mining \n",
      "- ##Chapter 3 (Item based filtering) "
     ]
    },
    {
     "cell_type": "code",
     "collapsed": false,
     "input": [],
     "language": "python",
     "metadata": {},
     "outputs": []
    }
   ],
   "metadata": {}
  }
 ]
}