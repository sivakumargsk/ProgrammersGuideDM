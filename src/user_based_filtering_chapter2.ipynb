{
 "metadata": {
  "name": "",
  "signature": "sha256:608ad77d211f64b034a46290d5731e08ea0a02de1e4ca5e378a94a026360a17e"
 },
 "nbformat": 3,
 "nbformat_minor": 0,
 "worksheets": [
  {
   "cells": [
    {
     "cell_type": "code",
     "collapsed": false,
     "input": [
      "#This is the Data Set\n",
      "\n",
      "users = {\"Angelica\": {\"Blues Traveler\" : 3.5, \"Broken Bells\" : 2.0,\"Norah Jones\" : 4.5 , \"Phoenix\" : 5.0,\"Slightly Stoopid\" : 1.5, \"The Strokes\" : 2.5,\"Vampire Weekend\" : 2.0},\n",
      "         \"Bill\"    : {\"Blues Traveler\" : 2.0, \"Broken Bells\" : 3.5,\"Deadmau5\" : 4.0, \"Phoenix\" : 2.0, \"Slightly Stoopid\" :3.5,\"Vampire Weekend\" : 3.0},\n",
      "         \"Chan\"    : {\"Blues Traveler\" : 5.0, \"Broken Bells\" : 1.0,\"Deadmau5\" : 1.0,  \"Norah Jones\" : 3.0,\"Phoenix\" : 5.0, \"Slightly Stoopid\" :1.0},\n",
      "         \"Dan\"     : {\"Blues Traveler\" : 3.0, \"Broken Bells\" : 4.0,\"Deadmau5\" : 4.5, \"Phoenix\" : 3.0,\"Slightly Stoopid\" : 4.5, \"The Strokes\" : 4.0,\"Vampire while \": 2.0},\n",
      "         \"Hailey\"  : {\"Broken Bells\" : 4.0, \"Deadmau5\" : 1.0, \"Norah Jones\" : 4.0,\"The Strokes\" : 4.0, \"Vampire Weekend\" : 1.0 },\n",
      "         \"Jordyn\"  : {\"Broken Bells\" : 4.5, \"Deadmau5\" : 4.0, \"Norah Jones\" : 5.0,\"Phoenix\" : 5.0, \"Slightly Stoopid\" : 4.5,\"The Strokes\" : 4.0, \"Vampire Weekend\" : 4.0},\n",
      "         \"Sam\"     : {\"Blues Traveler\" : 5.0, \"Broken Bells\" : 2.0,\"Norah Jones\" : 3.0, \"Phoenix\" : 3.0,\"Slightly Stoopid\" : 4.0, \"The Strokes\" : 5.0},\n",
      "         \"Veronica\": {\"Blues Traveler\" : 3.0, \"Norah Jones\" : 5.0,\"Phoenix\" : 4.0, \"Slightly Stoopid\" : 2.5,\"The Strokes\" : 3.0}}\n",
      "users"
     ],
     "language": "python",
     "metadata": {},
     "outputs": [
      {
       "metadata": {},
       "output_type": "pyout",
       "prompt_number": 1,
       "text": [
        "{'Angelica': {'Blues Traveler': 3.5,\n",
        "  'Broken Bells': 2.0,\n",
        "  'Norah Jones': 4.5,\n",
        "  'Phoenix': 5.0,\n",
        "  'Slightly Stoopid': 1.5,\n",
        "  'The Strokes': 2.5,\n",
        "  'Vampire Weekend': 2.0},\n",
        " 'Bill': {'Blues Traveler': 2.0,\n",
        "  'Broken Bells': 3.5,\n",
        "  'Deadmau5': 4.0,\n",
        "  'Phoenix': 2.0,\n",
        "  'Slightly Stoopid': 3.5,\n",
        "  'Vampire Weekend': 3.0},\n",
        " 'Chan': {'Blues Traveler': 5.0,\n",
        "  'Broken Bells': 1.0,\n",
        "  'Deadmau5': 1.0,\n",
        "  'Norah Jones': 3.0,\n",
        "  'Phoenix': 5.0,\n",
        "  'Slightly Stoopid': 1.0},\n",
        " 'Dan': {'Blues Traveler': 3.0,\n",
        "  'Broken Bells': 4.0,\n",
        "  'Deadmau5': 4.5,\n",
        "  'Phoenix': 3.0,\n",
        "  'Slightly Stoopid': 4.5,\n",
        "  'The Strokes': 4.0,\n",
        "  'Vampire while ': 2.0},\n",
        " 'Hailey': {'Broken Bells': 4.0,\n",
        "  'Deadmau5': 1.0,\n",
        "  'Norah Jones': 4.0,\n",
        "  'The Strokes': 4.0,\n",
        "  'Vampire Weekend': 1.0},\n",
        " 'Jordyn': {'Broken Bells': 4.5,\n",
        "  'Deadmau5': 4.0,\n",
        "  'Norah Jones': 5.0,\n",
        "  'Phoenix': 5.0,\n",
        "  'Slightly Stoopid': 4.5,\n",
        "  'The Strokes': 4.0,\n",
        "  'Vampire Weekend': 4.0},\n",
        " 'Sam': {'Blues Traveler': 5.0,\n",
        "  'Broken Bells': 2.0,\n",
        "  'Norah Jones': 3.0,\n",
        "  'Phoenix': 3.0,\n",
        "  'Slightly Stoopid': 4.0,\n",
        "  'The Strokes': 5.0},\n",
        " 'Veronica': {'Blues Traveler': 3.0,\n",
        "  'Norah Jones': 5.0,\n",
        "  'Phoenix': 4.0,\n",
        "  'Slightly Stoopid': 2.5,\n",
        "  'The Strokes': 3.0}}"
       ]
      }
     ],
     "prompt_number": 1
    },
    {
     "cell_type": "markdown",
     "metadata": {},
     "source": [
      "##Generalised formula:\n",
      "\n",
      "$d(x,y)=(\\sum\\limits_{i=1}^{n}|x_i - y_i |^r)^\\frac {1}{r}$\n",
      "\n",
      "- r = 1: the formula is Manhattan Distance.\n",
      "- r = 2: The formula is Euclidean Distance.\n",
      "- r = infinity: Supremum Distance."
     ]
    },
    {
     "cell_type": "code",
     "collapsed": false,
     "input": [
      "def manhattan (u_name1 , u_name2):\n",
      "    dist_sum = 0\n",
      "    for key in u_name1:\n",
      "        if key in u_name2:\n",
      "            dist_sum += abs(u_name1[key] - u_name2[key])\n",
      "    return dist_sum\n",
      "\n",
      "print \"Manhattan distance for Hailey and Veronica is \",manhattan(users['Hailey'], users['Veronica'])\n",
      "print \"Manhattan distance for Hailey and Jordyn is \",manhattan(users['Hailey'], users['Jordyn'])"
     ],
     "language": "python",
     "metadata": {},
     "outputs": [
      {
       "output_type": "stream",
       "stream": "stdout",
       "text": [
        "Manhattan distance for Hailey and Veronica is  2.0\n",
        "Manhattan distance for Hailey and Jordyn is  7.5\n"
       ]
      }
     ],
     "prompt_number": 3
    },
    {
     "cell_type": "code",
     "collapsed": false,
     "input": [
      "def closest_person (u_name , users):\n",
      "    closest_list = []\n",
      "    for user in users:\n",
      "        if user != u_name:\n",
      "            distance = manhattan(users[user],users[u_name])\n",
      "            closest_list.append((distance, user))\n",
      "    return sorted (closest_list)\n",
      "\n",
      "print \"Closest persons for Hailey's are ==> \",closest_person(\"Hailey\",users)\n",
      "print \"Closest persons for Sam's are ==> \",closest_person(\"Sam\",users)"
     ],
     "language": "python",
     "metadata": {},
     "outputs": [
      {
       "output_type": "stream",
       "stream": "stdout",
       "text": [
        "Closest persons for Hailey's are ==>  [(2.0, 'Veronica'), (3.5, 'Dan'), (4.0, 'Chan'), (4.0, 'Sam'), (5.0, 'Angelica'), (5.5, 'Bill'), (7.5, 'Jordyn')]\n",
        "Closest persons for Sam's are ==>  [(4.0, 'Hailey'), (5.5, 'Dan'), (6.0, 'Bill'), (6.0, 'Chan'), (8.0, 'Jordyn'), (8.5, 'Veronica'), (10.0, 'Angelica')]\n"
       ]
      }
     ],
     "prompt_number": 4
    },
    {
     "cell_type": "markdown",
     "metadata": {},
     "source": [
      "###For recomendatiions we take the one closest person ratings having minimum distance"
     ]
    },
    {
     "cell_type": "code",
     "collapsed": false,
     "input": [
      "def recommend (u_name , users):\n",
      "    #first find the nearest person\n",
      "    nearest_person = closest_person (u_name , users)[0][1]\n",
      "    recommendations = []\n",
      "    # now find bands neighbor rated that user didn't\n",
      "    neighborRatings = users[nearest_person]\n",
      "    userRatings = users[u_name]\n",
      "    for artist in neighborRatings:\n",
      "        if not artist in userRatings:\n",
      "            recommendations.append((artist, neighborRatings[artist]))\n",
      "    return sorted(recommendations,\n",
      "                  key = lambda x: x[1],\n",
      "                  reverse = True)\n",
      "\n",
      "print \"Recommended books for Hailey's is \",recommend(\"Hailey\", users)\n",
      "print \"Recommended Books for Sam's are \",recommend(\"Sam\", users)"
     ],
     "language": "python",
     "metadata": {},
     "outputs": [
      {
       "output_type": "stream",
       "stream": "stdout",
       "text": [
        "Recommended books for Hailey's is  [('Phoenix', 4.0), ('Blues Traveler', 3.0), ('Slightly Stoopid', 2.5)]\n",
        "Recommended Books for Sam's are  [('Deadmau5', 1.0), ('Vampire Weekend', 1.0)]\n"
       ]
      }
     ],
     "prompt_number": 5
    },
    {
     "cell_type": "code",
     "collapsed": false,
     "input": [
      "#1) Implement the Minkowski Distance function.\n",
      "\n",
      "def minkowski (u_name1 , u_name2 , r):\n",
      "    dist_sum = 0\n",
      "    for key in u_name1:\n",
      "        if key in u_name2:\n",
      "            dist_sum += pow(abs(u_name1[key] - u_name2[key]),r)\n",
      "    return pow(dist_sum,1/r)\n",
      "\n",
      "print minkowski(users['Hailey'], users['Veronica'],1)#r=1 Manhattan-distance\n",
      "print minkowski(users['Hailey'], users['Veronica'],2)#r=2 Ecludian-Distance"
     ],
     "language": "python",
     "metadata": {},
     "outputs": [
      {
       "output_type": "stream",
       "stream": "stdout",
       "text": [
        "2.0\n",
        "1.0\n"
       ]
      }
     ],
     "prompt_number": 6
    },
    {
     "cell_type": "code",
     "collapsed": false,
     "input": [
      "#2) Alter the closest_person function to use Minkowski Distance.\n",
      "    \n",
      "def minkowski_closest_person (u_name , users , r):\n",
      "    closest_list = []\n",
      "    for user in users:\n",
      "        if user != u_name:\n",
      "            distance = manhattan(users[user],users[u_name],r)\n",
      "            closest_list.append((distance, user))\n",
      "    return sorted (closest_list)\n",
      "\n",
      "print minkowski(users['Hailey'], users,1)\n",
      "print minkowski(users['Hailey'], users,2)"
     ],
     "language": "python",
     "metadata": {},
     "outputs": [
      {
       "output_type": "stream",
       "stream": "stdout",
       "text": [
        "0\n",
        "1\n"
       ]
      }
     ],
     "prompt_number": 7
    },
    {
     "cell_type": "code",
     "collapsed": false,
     "input": [
      "from math import sqrt\n",
      "# karl-pearsons correlation coefficient.\n",
      "\n",
      "def xbar (dic1, dic2):\n",
      "    size = 0\n",
      "    sum1 = 0\n",
      "    for key in dic1:\n",
      "        if key in dic2:\n",
      "            sum1 += dic1[key]\n",
      "            size += 1\n",
      "    return sum1/size\n",
      "def ybar (dic1, dic2):\n",
      "    size = 0\n",
      "    sum1 = 0\n",
      "    for key in dic1:\n",
      "        if key in dic2:\n",
      "            sum1 += dic2[key]\n",
      "            size += 1\n",
      "    return sum1/size\n",
      "\n",
      "def pearson_corr(data1 , data2):\n",
      "    cov_xy  = 0\n",
      "    sigma_x = 0\n",
      "    sigma_y = 0\n",
      "    for key in data1:\n",
      "        if key in data2:\n",
      "            cov_xy += ((data1[key] - xbar(data1,data2)) * (data2[key] - ybar(data1, data2)))\n",
      "            sigma_x   += pow((data1[key] - xbar(data1, data2)), 2)\n",
      "            sigma_y   += pow((data2[key] - ybar(data1, data2)), 2)\n",
      "    return cov_xy/(sqrt(sigma_x) * sqrt(sigma_y))\n",
      "\n",
      "\n",
      "print pearson_corr(users['Angelica'], users['Bill'])\n",
      "print pearson_corr(users['Angelica'], users['Hailey'])\n",
      "print pearson_corr(users['Angelica'], users['Jordyn'])"
     ],
     "language": "python",
     "metadata": {},
     "outputs": [
      {
       "output_type": "stream",
       "stream": "stdout",
       "text": [
        "-0.904053499068\n",
        "0.420084025208\n",
        "0.763974860548\n"
       ]
      }
     ],
     "prompt_number": 8
    },
    {
     "cell_type": "code",
     "collapsed": false,
     "input": [
      "def pearson (ratings1, ratings2):\n",
      "    sum_xy = 0\n",
      "    sum_x = 0\n",
      "    sum_y = 0\n",
      "    sum_x2 = 0\n",
      "    sum_y2 = 0\n",
      "    n = 0\n",
      "    for key in ratings1:\n",
      "        if key in ratings2:\n",
      "            n += 1\n",
      "            x = ratings1[key]\n",
      "            y = ratings2[key]\n",
      "            sum_x += x\n",
      "            sum_y += y\n",
      "            sum_xy += x*y\n",
      "            sum_x2 += x**2\n",
      "            sum_y2 += y**2\n",
      "    denominator = sqrt (sum_x2 - (sum_x ** 2)/n) * sqrt (sum_y2 - (sum_y ** 2)/n)\n",
      "    if n == 0:\n",
      "        return 0\n",
      "    if denominator == 0:\n",
      "        return 0\n",
      "    else:\n",
      "        return (sum_xy-(sum_x * sum_y) / n)/ denominator\n",
      "    \n",
      "print pearson(users['Angelica'], users['Bill'])\n",
      "print pearson(users['Angelica'], users['Hailey'])\n",
      "print pearson(users['Angelica'], users['Jordyn'])"
     ],
     "language": "python",
     "metadata": {},
     "outputs": [
      {
       "output_type": "stream",
       "stream": "stdout",
       "text": [
        "-0.904053499068\n",
        "0.420084025208\n",
        "0.763974860548\n"
       ]
      }
     ],
     "prompt_number": 10
    },
    {
     "cell_type": "code",
     "collapsed": false,
     "input": [
      "%%capture timeit_results\n",
      "%timeit fun1 = pearson_corr(users['Angelica'], users['Bill'])\n",
      "%timeit fun2 = pearson(users['Angelica'], users['Bill'])\n"
     ],
     "language": "python",
     "metadata": {},
     "outputs": [],
     "prompt_number": 11
    },
    {
     "cell_type": "code",
     "collapsed": false,
     "input": [
      "print timeit_results"
     ],
     "language": "python",
     "metadata": {},
     "outputs": [
      {
       "output_type": "stream",
       "stream": "stdout",
       "text": [
        "100000 loops, best of 3: 15.5 us per loop\n",
        "100000 loops, best of 3: 2.57 us per loop\n",
        "\n"
       ]
      }
     ],
     "prompt_number": 12
    },
    {
     "cell_type": "code",
     "collapsed": false,
     "input": [],
     "language": "python",
     "metadata": {},
     "outputs": []
    }
   ],
   "metadata": {}
  }
 ]
}