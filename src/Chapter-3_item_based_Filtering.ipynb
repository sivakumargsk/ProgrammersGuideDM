{
 "metadata": {
  "name": "",
  "signature": "sha256:c28b3fbab6f6552ffe8640b09189bf1ce5617e22e87d6e80355cda50c70613b8"
 },
 "nbformat": 3,
 "nbformat_minor": 0,
 "worksheets": [
  {
   "cells": [
    {
     "cell_type": "markdown",
     "metadata": {},
     "source": [
      "#Chapter 3\n",
      "##Item-based filtering.\n",
      "Suppose I have an algorithm that identifies products that are most similar to each other. For example, such an algorithm might find that Phoenix's album is similar to Passion Pit's album, Manners. If a user rates Wolfgang Amadeus Phoenix highly we could recommend the similar album Manners. \n",
      "\n",
      "**Note**: Item-Based filtering is different than what we\n",
      "did for user-based filtering. In user-based filtering we had a user, found the most similar person (or users) to that user and used the ratings of that similar person to make recommendations. In item-based filtering, ahead of time we find the most similar items, and combine that with a user's rating of items to generate a recommendation.\n"
     ]
    },
    {
     "cell_type": "markdown",
     "metadata": {},
     "source": [
      "##Example:\n",
      "Suppose our streaming music site has m users and n bands, where the users rate bands. This\n",
      "is shown in the following table. As before, the rows represent the users and the columns\n",
      "represent bands.\n"
     ]
    },
    {
     "cell_type": "markdown",
     "metadata": {},
     "source": [
      "| sno |user    |...|phoenix|...|Passion pit |...|n |\n",
      "| ------------------------------------------------:|\n",
      "| 1   |siva    |   |5      |   |            |   |  |\n",
      "| 2   |sai     |   |4      |   |2           |   |  |@\n",
      "| 3   |vinod   |   |1      |   |2           |   |  |@\n",
      "| 4   |srinu   |   |5      |   |5           |   |  |@\n",
      "| ... |...     |   |       |   |            |   |  |\n",
      "| u   |krishna |   |4      |   |5           |   |  |@\n",
      "| ... |...     |   |       |   |            |   |  |\n",
      "| m   |bharath |   |3      |   |2           |   |  |@"
     ]
    },
    {
     "cell_type": "markdown",
     "metadata": {},
     "source": [
      "**We would like to compute the similarity of Phoenix to Passion Pit.** \n",
      "To do this we only use users who rated both bands as indicated by the @ at last coloumn.\n",
      "\n",
      "- for uer-based filtering we determine the similarity between rows.\n",
      "- For item-based filtering we are determining the similarity between columns (Phoenix and Passion Pit columns)"
     ]
    },
    {
     "cell_type": "code",
     "collapsed": false,
     "input": [],
     "language": "python",
     "metadata": {},
     "outputs": []
    }
   ],
   "metadata": {}
  }
 ]
}